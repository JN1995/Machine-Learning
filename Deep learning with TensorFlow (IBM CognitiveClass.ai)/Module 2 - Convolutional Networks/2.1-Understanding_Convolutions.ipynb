{
 "cells": [
  {
   "cell_type": "markdown",
   "metadata": {},
   "source": [
    "<h1 align=\"center\"><font size=\"5\">UNDERSTANDING CONVOLUTIONS</font></h1>\n"
   ]
  },
  {
   "cell_type": "code",
   "execution_count": 1,
   "metadata": {},
   "outputs": [],
   "source": [
    "a= 0"
   ]
  },
  {
   "cell_type": "markdown",
   "metadata": {},
   "source": [
    "<h2>Introduction</h2>"
   ]
  },
  {
   "cell_type": "markdown",
   "metadata": {},
   "source": [
    "<h3>Lesson</h3>\n",
    "In this lesson, we will learn more about the key concepts behind the CNNs (Convolutional Neural Networks from now on).\n",
    "This lesson is not intended to be a reference for <b>machine learning, deep learning, convolutions</b> or <b>TensorFlow</b>. The intention is to give notions to the user about these fields. \n",
    "\n",
    "<h3>Audience</h3>\n",
    "<ul>\n",
    "    <li>Data scientists. General public related to computer science and machine learning.</li>\n",
    "    <li>Readers interested on TensorFlow and in need of a cloud platform like Workbench Data Scientist.</li>\n",
    "</ul>\n",
    "        \n",
    "<h3>Pre-requisites:</h3>\n",
    "Basic knowledge of linear algebra, Python, Neural Networks and TensorFlow.\n",
    "\n",
    "----"
   ]
  },
  {
   "cell_type": "markdown",
   "metadata": {},
   "source": [
    "<h2>Table of contents</h2>\n",
    "\n",
    "<div class=\"alert alert-block alert-info\" style=\"margin-top: 20px\">\n",
    "<font size=\"3\"><strong>Click on the links to go to the following sections:</strong></font>\n",
    "<br>\n",
    "<ol>\n",
    "    <li><a href=\"#ref1\">Analogies</a></li>\n",
    "    <li><a href=\"#ref2\">Understanding and coding with Python</a></li>\n",
    "    <li><a href=\"#ref3\">Coding with TensorFlow</a></li>\n",
    "    <li><a href=\"#ref4\">Convolution applied on images</a></li>\n",
    "    <li><a href=\"#ref5\">Conclusion</a></li>\n",
    "</ol>\n",
    "<p></p>\n",
    "</div>\n",
    "<br>\n",
    "\n",
    "\n",
    "<hr>\n"
   ]
  },
  {
   "cell_type": "markdown",
   "metadata": {},
   "source": [
    "<a id=\"ref1\"></a>\n",
    "<h2>Analogies</h2>\n",
    "\n",
    "There are several ways to understand Convolutional Layers without using a mathematical approach. We are going to explore some of the ideas proposed by the Machine Learning community.\n",
    "\n",
    "<h3>Instances of Neurons</h3>\n",
    "\n",
    "When you start to learn a programming language, one of the first phases of your development is the learning and application of functions. Instead of rewriting pieces of code everytime that you would, a good student is encouraged to code using functional programming, keeping the code organized, clear and concise.\n",
    "CNNs can be thought of as a simplification of what is really going on, a special kind of neural network which uses identical copies of the same neuron. These copies include the same parameters (shared weights and biases) and activation functions."
   ]
  },
  {
   "cell_type": "code",
   "execution_count": null,
   "metadata": {},
   "outputs": [],
   "source": []
  }
 ],
 "metadata": {
  "kernelspec": {
   "display_name": "Python 3",
   "language": "python",
   "name": "python3"
  },
  "language_info": {
   "codemirror_mode": {
    "name": "ipython",
    "version": 3
   },
   "file_extension": ".py",
   "mimetype": "text/x-python",
   "name": "python",
   "nbconvert_exporter": "python",
   "pygments_lexer": "ipython3",
   "version": "3.6.8"
  }
 },
 "nbformat": 4,
 "nbformat_minor": 2
}
