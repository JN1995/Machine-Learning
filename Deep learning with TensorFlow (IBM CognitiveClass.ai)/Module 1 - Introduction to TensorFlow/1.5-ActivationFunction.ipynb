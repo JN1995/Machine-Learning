{
 "cells": [
  {
   "cell_type": "markdown",
   "metadata": {},
   "source": [
    "<h1 align=\"center\"> Activation Functions </h1><br>\n",
    "Activation functions are a cornerstone of Machine Learning. In general, Activation Functions define how a processing unit will treat its input -- usually passing this input through it and generating an output through its result. To\n",
    "begin the process of having a more intuitive understanding, let's go through some of the most commonly used functions."
   ]
  },
  {
   "cell_type": "markdown",
   "metadata": {},
   "source": [
    "<div class=\"alert alert-block alert-info\" style=\"margin-top: 20px\">\n",
    "<font size = 3><strong>This lesson covers the following concepts of Activation Functions:</strong></font>\n",
    "<br>\n",
    "<p><a href=\"#ref1\">The Step Functions</a></p>\n",
    "<p><a href=\"#ref2\">The Sigmoid Functions</a></p>\n",
    "<p><a href=\"#ref3\">The Linear Unit Functions</a></p>\n",
    "<p><a href=\"#ref3\">Activation Functions in TensorFlow</a></p>\n",
    "<p></p>\n",
    "</div>\n",
    "<br>"
   ]
  },
  {
   "cell_type": "markdown",
   "metadata": {},
   "source": [
    "#### Importing Dependencies"
   ]
  },
  {
   "cell_type": "code",
   "execution_count": 2,
   "metadata": {},
   "outputs": [],
   "source": [
    "import tensorflow as tf\n",
    "import numpy as np\n",
    "import matplotlib.pyplot as plt\n",
    "\n",
    "from mpl_toolkits.mplot3d import Axes3D\n",
    "\n",
    "%matplotlib inline"
   ]
  },
  {
   "cell_type": "markdown",
   "metadata": {},
   "source": [
    "The next cell implements a basic function that plots a surface for an arbitrary activation function. The plot is done for all possible values of weight and bias between -0.5 and 0.5 with a step of 0.05. The input, the weight, and the bias are one-dimensional. Additionally, the input can be passed as an argument."
   ]
  },
  {
   "cell_type": "code",
   "execution_count": 6,
   "metadata": {},
   "outputs": [],
   "source": [
    "def plot_activation(i=1.0, act_func=lambda x: x):\n",
    "    ws = np.arange(-0.5, 0.5, 0.05)\n",
    "    bs = np.arange(-0.5, 0.5, 0.05)\n",
    "    \n",
    "    X, Y = np.meshgrid(ws, bs)\n",
    "    \n",
    "    os = np.array([act_func(tf.constant(w*i + b)).eval(session=sess) \n",
    "                   for w, b in zip(np.ravel(X), np.ravel(Y))])\n",
    "    \n",
    "    Z = os.reshape(X.shape)\n",
    "    \n",
    "    fig = plt.figure()\n",
    "    ax = fig.add_subplot(111, projection='3d')\n",
    "    ax.plot_surface(X, Y, Z, rstride=1, cstride=1)"
   ]
  },
  {
   "cell_type": "code",
   "execution_count": 11,
   "metadata": {},
   "outputs": [],
   "source": [
    "ws = np.arange(-0.5, 0.6, 0.5)\n",
    "bs = np.arange(-0.5, 0.6, 0.5)\n",
    "\n",
    "X, Y = np.meshgrid(ws, bs)"
   ]
  },
  {
   "cell_type": "code",
   "execution_count": 14,
   "metadata": {},
   "outputs": [
    {
     "data": {
      "text/plain": [
       "(array([[-0.5,  0. ,  0.5],\n",
       "        [-0.5,  0. ,  0.5],\n",
       "        [-0.5,  0. ,  0.5]]), array([[-0.5, -0.5, -0.5],\n",
       "        [ 0. ,  0. ,  0. ],\n",
       "        [ 0.5,  0.5,  0.5]]))"
      ]
     },
     "execution_count": 14,
     "metadata": {},
     "output_type": "execute_result"
    }
   ],
   "source": [
    "X, Y"
   ]
  },
  {
   "cell_type": "code",
   "execution_count": 15,
   "metadata": {},
   "outputs": [
    {
     "data": {
      "text/plain": [
       "array([-0.5,  0. ,  0.5, -0.5,  0. ,  0.5, -0.5,  0. ,  0.5])"
      ]
     },
     "execution_count": 15,
     "metadata": {},
     "output_type": "execute_result"
    }
   ],
   "source": [
    "np.ravel(X)"
   ]
  },
  {
   "cell_type": "code",
   "execution_count": null,
   "metadata": {},
   "outputs": [],
   "source": []
  }
 ],
 "metadata": {
  "kernelspec": {
   "display_name": "Python 3",
   "language": "python",
   "name": "python3"
  },
  "language_info": {
   "codemirror_mode": {
    "name": "ipython",
    "version": 3
   },
   "file_extension": ".py",
   "mimetype": "text/x-python",
   "name": "python",
   "nbconvert_exporter": "python",
   "pygments_lexer": "ipython3",
   "version": "3.6.8"
  }
 },
 "nbformat": 4,
 "nbformat_minor": 2
}
