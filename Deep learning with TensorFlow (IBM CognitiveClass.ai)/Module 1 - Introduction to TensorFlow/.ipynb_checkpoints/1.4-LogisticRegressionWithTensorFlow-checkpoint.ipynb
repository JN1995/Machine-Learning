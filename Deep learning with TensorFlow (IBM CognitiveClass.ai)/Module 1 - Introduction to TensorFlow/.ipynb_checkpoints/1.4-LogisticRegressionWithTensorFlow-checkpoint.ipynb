{
 "cells": [
  {
   "cell_type": "markdown",
   "metadata": {},
   "source": [
    "<a href=\"https://www.bigdatauniversity.com\"><img src=\"https://ibm.box.com/shared/static/qo20b88v1hbjztubt06609ovs85q8fau.png\" width=\"400px\"  align=\"center\"></a>\n",
    "<h1 align=\"center\"><font size=\"5\">LOGISTIC REGRESSION WITH TENSORFLOW</font></h1>"
   ]
  },
  {
   "cell_type": "markdown",
   "metadata": {},
   "source": [
    "## Table of Contents\n",
    "\n",
    "Logistic Regression is one of most important techniques in data science. It is usually used to solve the classic classification problem.\n",
    "\n",
    "<div class=\"alert alert-block alert-info\" style=\"margin-top: 20px\">\n",
    "<font size = 3><strong>This lesson covers the following concepts of Logistics Regression:</strong></font>\n",
    "<br>\n",
    "<h2>Table of Contents</h2>\n",
    "\n",
    "<ol>\n",
    "    <li><a href=\"#ref1\">Linear Regression vs Logistic Regression</a></li>\n",
    "    <li><a href=\"#ref2\">Utilizing Logistic Regression in TensorFlow</a></li>\n",
    "    <li><a href=\"#ref3\">Training</a></li>\n",
    "</ol>    \n",
    "</div>\n",
    "<p></p>\n",
    "<br>\n",
    "\n",
    "<hr>"
   ]
  },
  {
   "cell_type": "markdown",
   "metadata": {},
   "source": []
  },
  {
   "cell_type": "markdown",
   "metadata": {},
   "source": [
    "<a id=\"ref1\"></a>\n",
    "<h2>What is different between Linear and Logistic Regression?</h2>\n",
    "\n",
    "While Linear Regression is suited for estimating continuous values (e.g. estimating house price), it is not the best tool for predicting the class in which an observed data point belongs. In order to provide estimate for classification, we need some sort of guidance on what would be the <b>most probable class</b> for that data point. For this, we use <b>Logistic Regression</b>.\n",
    "\n",
    "<div class=\"alert alert-success alertsuccess\" style=\"margin-top: 20px\">\n",
    "<font size=\"3\"><strong>Recall linear regression:</strong></font>\n",
    "<br>\n",
    "<br>\n",
    "Linear regression finds a function that relates a continuous dependent variable, <i>y</i>, to some predictors (independent variables <i>x1</i>, <i>x2</i>, etc.). Simple linear regression assumes a function of the form:\n",
    "<br><br>\n",
    "$$\n",
    "y = w0 + w1 \\times x1 + w2 \\times x2 + \\cdots\n",
    "$$\n",
    "<br>\n",
    "and finds the values of <i>w0</i>, <i>w1</i>, <i>w2</i>, etc. The term <i>w0</i> is the \"intercept\" or \"constant term\" (it's shown as <i>b</i> in the formula below):\n",
    "<br><br>\n",
    "$$\n",
    "Y = W X + b\n",
    "$$\n",
    "<p></p>\n",
    "\n",
    "</div>\n",
    "\n",
    "Logistic Regression is a variation of Linear Regression, useful when the observed dependent variable, <i>y</i>, is categorical. It produces a formula that predicts the probability of the class label as a function of the independent variables.\n",
    "\n",
    "Despite the name logistic <i>regression</i>, it is actually a <b>probabilistic classification</b> model. Logistic regression fits a special s-shaped curve by taking the linear regression and transforming the numeric estimate into a probability with the following function:\n",
    "\n",
    "$$\n",
    "ProbabilityOfaClass = \\theta(y) = \\frac{e^y}{1 + e^y} = exp(y) / (1 + exp(y)) = p \n",
    "$$\n",
    "\n",
    "which produces p-values between 0 (as y approaches minus infinity $-\\infty$) and 1 (as y approaches plus infinity $+\\infty$). This now becomes a special kind of non-linear regression.\n",
    "\n",
    "In this equation, <i>y</i> is the regression result (the sum of the variables weighted by the coefficients), <code>exp</code> is the exponential function and $\\theta(y)$ is the <a href=\"http://en.wikipedia.org/wiki/Logistic_function\">logistic function</a>, also called logistic curve. It is a common \"S\" shape (sigmoid curve), and was first developed for modeling population growth.\n",
    "\n",
    "You might also have seen this function before, in another configuration:\n",
    "\n",
    "$$\n",
    "ProbabilityOfaClass = \\theta(y) = \\frac{1}{1+e^{-y}}\n",
    "$$\n",
    "\n",
    "So, briefly, Logistic Regression passes the input through the logistic/sigmoid function but then treats the result as a probability:\n",
    "\n",
    "<img src=\"https://ibm.box.com/shared/static/kgv9alcghmjcv97op4d6onkyxevk23b1.png\" width=\"400\" align=\"center\">\n"
   ]
  },
  {
   "cell_type": "markdown",
   "metadata": {},
   "source": [
    "<a id=\"ref2\"></a>\n",
    "<h2>Utilizing Logistic Regression in TensorFlow</h2>\n",
    "\n",
    "For us to utilize Logistic Regression in TensorFlow, we first need to import the required libraries. To do so, you can run the code cell below."
   ]
  },
  {
   "cell_type": "code",
   "execution_count": 66,
   "metadata": {},
   "outputs": [],
   "source": [
    "import tensorflow as tf\n",
    "import pandas as pd\n",
    "import numpy as np\n",
    "from time import time\n",
    "from sklearn.datasets import load_iris\n",
    "from sklearn.model_selection import train_test_split\n",
    "import matplotlib.pyplot as plt"
   ]
  },
  {
   "cell_type": "markdown",
   "metadata": {},
   "source": [
    "Next, we will load the dataset we are going to use. In this case, we are utilizing the <code>iris</code> dataset, which is inbuilt -- so there's no need to do any preprocessing and we can jump right into manipulating it. We separate the dataset into <i>xs</i> and <i>ys</i>, and then into training <i>xs</i> and <i>ys</i> and testing <i>xs</i> and <i>ys</i>, (pseudo)randomly."
   ]
  },
  {
   "cell_type": "markdown",
   "metadata": {},
   "source": [
    "<h3>Understanding the Data</h3>\n",
    "\n",
    "<h4><code>Iris Dataset</code>:</h4>\n",
    "This dataset was introduced by British Statistician and Biologist Ronald Fisher, it consists of 50 samples from each of three species of Iris (Iris setosa, Iris virginica and Iris versicolor). In total it has 150 records under five attributes - petal length, petal width, sepal length, sepal width and species. <a href=\"https://archive.ics.uci.edu/ml/datasets/iris\">Dataset source</a>\n",
    "\n",
    "Attributes\n",
    "Independent Variable\n",
    "<ul>\n",
    "    <li>petal length</li>\n",
    "    <li>petal width</li>\n",
    "    <li>sepal length</li>\n",
    "    <li>sepal width</li>\n",
    "</ul>\n",
    "Dependent Variable\n",
    "<ul>    \n",
    "    <li>Species\n",
    "        <ul>\n",
    "            <li>Iris setosa</li>\n",
    "            <li>Iris virginica</li>\n",
    "            <li>Iris versicolor</li>\n",
    "        </ul>\n",
    "    </li>\n",
    "</ul>\n",
    "<br>"
   ]
  },
  {
   "cell_type": "code",
   "execution_count": 67,
   "metadata": {},
   "outputs": [],
   "source": [
    "iris = load_iris()"
   ]
  },
  {
   "cell_type": "code",
   "execution_count": 68,
   "metadata": {},
   "outputs": [],
   "source": [
    "iris_x, iris_y = iris.data, iris.target"
   ]
  },
  {
   "cell_type": "code",
   "execution_count": 69,
   "metadata": {},
   "outputs": [],
   "source": [
    "iris_y = pd.get_dummies(iris_y)"
   ]
  },
  {
   "cell_type": "code",
   "execution_count": 70,
   "metadata": {},
   "outputs": [],
   "source": [
    "iris_y = iris_y.values"
   ]
  },
  {
   "cell_type": "code",
   "execution_count": null,
   "metadata": {},
   "outputs": [],
   "source": []
  },
  {
   "cell_type": "code",
   "execution_count": 71,
   "metadata": {},
   "outputs": [],
   "source": [
    "train_x, test_x, train_y, test_y = train_test_split(iris_x, iris_y, test_size=0.33, random_state=1)"
   ]
  },
  {
   "cell_type": "markdown",
   "metadata": {},
   "source": [
    "Now we define x and y. These placeholders will hold our iris data (both the features and label matrices), and help pass them along to different parts of the algorithm. You can consider placeholders as empty shells into which we insert our data. We also need to give them shapes which correspond to the shape of our data. Later, we will insert data into these placeholders by “feeding” the placeholders the data via a “feed_dict” (Feed Dictionary)."
   ]
  },
  {
   "cell_type": "markdown",
   "metadata": {},
   "source": [
    "<h3>Why use Placeholders?</h3>\n",
    "\n",
    "<ol>\n",
    "    <li>This feature of TensorFlow allows us to create an algorithm which accepts data and knows something about the shape of the data without knowing the amount of data going in.</li>\n",
    "    <li>When we insert “batches” of data in training, we can easily adjust how many examples we train on in a single step without changing the entire algorithm.</li>\n",
    "</ol>"
   ]
  },
  {
   "cell_type": "code",
   "execution_count": 72,
   "metadata": {},
   "outputs": [],
   "source": [
    "# numFeatures is the number of features in our input data.\n",
    "# In the iris dataset, this number is '4'.\n",
    "num_features = train_x.shape[1]"
   ]
  },
  {
   "cell_type": "code",
   "execution_count": 73,
   "metadata": {},
   "outputs": [],
   "source": [
    "# numLabels is the number of classes our data points can be in.\n",
    "# In the iris dataset, this number is '3'.\n",
    "num_labels = train_y.shape[1]"
   ]
  },
  {
   "cell_type": "code",
   "execution_count": 74,
   "metadata": {},
   "outputs": [],
   "source": [
    "# Placeholders\n",
    "# 'None' means TensorFlow shouldn't expect a fixed number in that dimension\n",
    "# Iris has 4 features, so X is a tensor to hold our data.\n",
    "X = tf.placeholder(dtype=tf.float32, shape=[None, num_features])\n",
    "\n",
    "# This will be our correct answers matrix for 3 classes.\n",
    "y_truth = tf.placeholder(dtype=tf.float32, shape=[None, num_labels])"
   ]
  },
  {
   "cell_type": "markdown",
   "metadata": {},
   "source": [
    "<h3>Set model weights and bias</h3>\n",
    "\n",
    "Much like Linear Regression, we need a shared variable weight matrix for Logistic Regression. We initialize both <code>W</code> and <code>b</code> as tensors full of zeros. Since we are going to learn <code>W</code> and <code>b</code>, their initial value does not matter too much. These variables are the objects which define the structure of our regression model, and we can save them after they have been trained so we can reuse them later.\n",
    "\n",
    "We define two TensorFlow variables as our parameters. These variables will hold the weights and biases of our logistic regression and they will be continually updated during training. \n",
    "\n",
    "Notice that <code>W</code> has a shape of [4, 3] because we want to multiply the 4-dimensional input vectors by it to produce 3-dimensional vectors of evidence for the difference classes. <code>b</code> has a shape of [3] so we can add it to the output. Moreover, unlike our placeholders above which are essentially empty shells waiting to be fed data, TensorFlow variables need to be initialized with values, e.g. with zeros."
   ]
  },
  {
   "cell_type": "code",
   "execution_count": 75,
   "metadata": {},
   "outputs": [],
   "source": [
    "# 4-dimensional input and  3 classes\n",
    "W = tf.Variable(tf.zeros([4, 3]))"
   ]
  },
  {
   "cell_type": "code",
   "execution_count": 76,
   "metadata": {},
   "outputs": [],
   "source": [
    "# 3-dimensional output [0,0,1],[0,1,0],[1,0,0]\n",
    "b = tf.Variable(tf.zeros([3]))"
   ]
  },
  {
   "cell_type": "code",
   "execution_count": null,
   "metadata": {},
   "outputs": [],
   "source": [
    "\n"
   ]
  },
  {
   "cell_type": "code",
   "execution_count": 77,
   "metadata": {},
   "outputs": [],
   "source": [
    "#Randomly sample from a normal distribution with standard deviation .01\n",
    "weights = tf.Variable(tf.random_normal(shape=[num_features, num_labels], \n",
    "                                       mean=0.0, \n",
    "                                       stddev=0.01, \n",
    "                                       dtype=tf.float32, \n",
    "                                       name='weights'))\n",
    "\n",
    "bias = tf.Variable(tf.random_normal(shape=[1, num_labels], \n",
    "                                    mean=0.0, \n",
    "                                    stddev=0.01,\n",
    "                                    dtype= tf.float32, \n",
    "                                    name='bias'))"
   ]
  },
  {
   "cell_type": "markdown",
   "metadata": {},
   "source": [
    "<h3>Logistic Regression model</h3>\n",
    "\n",
    "We now define our operations in order to properly run the Logistic Regression. Logistic regression is typically thought of as a single equation:\n",
    "\n",
    "$$\n",
    "ŷ =sigmoid(WX+b)\n",
    "$$\n",
    "\n",
    "However, for the sake of clarity, we can have it broken into its three main components: \n",
    "- a weight times features matrix multiplication operation, \n",
    "- a summation of the weighted features and a bias term, \n",
    "- and finally the application of a sigmoid function. \n",
    "\n",
    "As such, we will find these components defined as three separate operations below.\n"
   ]
  },
  {
   "cell_type": "code",
   "execution_count": 78,
   "metadata": {},
   "outputs": [],
   "source": [
    "# Three-component breakdown of the Logistic Regression equation.\n",
    "# Note that these feed into each other.\n",
    "apply_weights_op = tf.matmul(a=X, b=weights, name='apply_weights')\n",
    "\n",
    "add_bias_op = tf.add(x=apply_weights_op, y=bias, name='add_bias')\n",
    "\n",
    "activation_op = tf.nn.sigmoid(x=add_bias_op, name='sigmod_activation')"
   ]
  },
  {
   "cell_type": "markdown",
   "metadata": {},
   "source": []
  },
  {
   "cell_type": "markdown",
   "metadata": {},
   "source": [
    "As we have seen before, the function we are going to use is the <i>logistic function</i> $(\\frac{1}{1+e^{-Wx}})$, which is fed the input data after applying weights and bias. In TensorFlow, this function is implemented as the <code>nn.sigmoid</code> function. Effectively, this fits the weighted input with bias into a 0-100 percent curve, which is the probability function we want."
   ]
  },
  {
   "cell_type": "markdown",
   "metadata": {},
   "source": [
    "<hr>\n",
    "<a id=\"ref3\"></a>\n",
    "<h2>Training</h2>\n",
    "\n",
    "The learning algorithm is how we search for the best weight vector (${\\bf w}$). This search is an optimization problem looking for the hypothesis that optimizes an error/cost measure.\n",
    "\n",
    "<b>What tell us our model is bad?</b>  \n",
    "The Cost or Loss of the model, so what we want is to minimize that. \n",
    "\n",
    "<b>What is the cost function in our model?</b>  \n",
    "The cost function we are going to utilize is the Squared Mean Error loss function.\n",
    "\n",
    "<b>How to minimize the cost function?</b>   \n",
    "We can't use <b>least-squares linear regression</b> here, so we will use <a href=\"http://en.wikipedia.org/wiki/Gradient_descent\">gradient descent</a> instead. Specifically, we will use batch gradient descent which calculates the gradient from all data points in the data set.\n",
    "\n",
    "<h3>Cost function</h3>\n",
    "Before defining our cost function, we need to define how long we are going to train and how should we define the learning rate."
   ]
  },
  {
   "cell_type": "code",
   "execution_count": 79,
   "metadata": {},
   "outputs": [],
   "source": [
    "# Number of Epochs in our training\n",
    "num_epochs = 751\n",
    "# Defining our learning rate iterations (decay)\n",
    "learning_rate = tf.train.exponential_decay(learning_rate=0.0008, \n",
    "                                           global_step=1, \n",
    "                                           decay_steps=train_x.shape[0], \n",
    "                                           decay_rate=0.95, \n",
    "                                           staircase=True)"
   ]
  },
  {
   "cell_type": "code",
   "execution_count": 80,
   "metadata": {},
   "outputs": [],
   "source": [
    "#Defining our cost function - Squared Mean Error\n",
    "cost_op = tf.nn.l2_loss(t=activation_op-y_truth, name='squared_error_cost')\n",
    "# tf.nn.sigmoid_cross_entropy_with_logits()\n",
    "\n",
    "#Defining our Gradient Descent\n",
    "training_op = tf.train.GradientDescentOptimizer(learning_rate=learning_rate).minimize(cost_op)"
   ]
  },
  {
   "cell_type": "markdown",
   "metadata": {},
   "source": [
    "Now we move on to actually running our operations. We will start with the operations involved in the prediction phase (i.e. the logistic regression itself).\n",
    "\n",
    "First, we need to initialize our weights and biases with zeros or random values via the inbuilt Initialization Op, <b>tf.initialize_all_variables()</b>. This Initialization Op will become a node in our computational graph, and when we put the graph into a session, then the Op will run and create the variables."
   ]
  },
  {
   "cell_type": "code",
   "execution_count": 81,
   "metadata": {},
   "outputs": [],
   "source": [
    "# Create a tensorflow session\n",
    "sess = tf.Session()"
   ]
  },
  {
   "cell_type": "code",
   "execution_count": 82,
   "metadata": {},
   "outputs": [],
   "source": [
    "# Initialize our weights and biases variables.\n",
    "init_op = tf.global_variables_initializer()"
   ]
  },
  {
   "cell_type": "code",
   "execution_count": 83,
   "metadata": {},
   "outputs": [],
   "source": [
    "# Initialize all tensorflow variables\n",
    "sess.run(init_op)"
   ]
  },
  {
   "cell_type": "markdown",
   "metadata": {},
   "source": [
    "We also want some additional operations to keep track of our model's efficiency over time. We can do this like so:"
   ]
  },
  {
   "cell_type": "code",
   "execution_count": 84,
   "metadata": {},
   "outputs": [],
   "source": [
    "# argmax(activation_op, 1) returns the label with the most probability\n",
    "# argmax(y_truth, 1) is the correct label\n",
    "correct_predictions_op = tf.equal(tf.argmax(activation_op, 1), tf.argmax(y_truth, 1))"
   ]
  },
  {
   "cell_type": "code",
   "execution_count": 85,
   "metadata": {},
   "outputs": [],
   "source": [
    "# If every false prediction is 0 and every true prediction is 1, the average returns us the accuracy\n",
    "accuracy_op = tf.reduce_mean(tf.cast(correct_predictions_op, \"float\"))"
   ]
  },
  {
   "cell_type": "code",
   "execution_count": 86,
   "metadata": {},
   "outputs": [],
   "source": [
    "# Summary op for regression output\n",
    "activation_summary_op = tf.summary.histogram(\"output\", activation_op)"
   ]
  },
  {
   "cell_type": "code",
   "execution_count": 87,
   "metadata": {},
   "outputs": [],
   "source": [
    "# Summary op for accuracy\n",
    "accuracy_summary_op = tf.summary.scalar(\"accuracy\", accuracy_op)"
   ]
  },
  {
   "cell_type": "code",
   "execution_count": 88,
   "metadata": {},
   "outputs": [],
   "source": [
    "# Summary op for cost\n",
    "cost_summary_op = tf.summary.scalar(\"cost\", cost_op)"
   ]
  },
  {
   "cell_type": "code",
   "execution_count": 89,
   "metadata": {},
   "outputs": [],
   "source": [
    "# Summary ops to check how variables (W, b) are updating after each iteration\n",
    "weight_summary = tf.summary.histogram(\"weights\", weights.eval(session=sess))\n",
    "bias_summary = tf.summary.histogram(\"biases\", bias.eval(session=sess))"
   ]
  },
  {
   "cell_type": "code",
   "execution_count": 90,
   "metadata": {},
   "outputs": [],
   "source": [
    "# Merge all summaries\n",
    "merged = tf.summary.merge([activation_summary_op, accuracy_summary_op, cost_summary_op, weight_summary, bias_summary])"
   ]
  },
  {
   "cell_type": "code",
   "execution_count": 91,
   "metadata": {},
   "outputs": [],
   "source": [
    "# Summary writer\n",
    "write = tf.summary.FileWriter(\"summary_logs\", sess.graph)"
   ]
  },
  {
   "cell_type": "markdown",
   "metadata": {},
   "source": [
    "Now we can define and run the actual training loop, like this:"
   ]
  },
  {
   "cell_type": "code",
   "execution_count": 92,
   "metadata": {},
   "outputs": [],
   "source": [
    "# Initialize reporting variables\n",
    "cost = 0.0\n",
    "diff = 1.0\n",
    "epoch_values = []\n",
    "accuracy_values = []\n",
    "cost_values = []"
   ]
  },
  {
   "cell_type": "code",
   "execution_count": 93,
   "metadata": {},
   "outputs": [
    {
     "name": "stdout",
     "output_type": "stream",
     "text": [
      "epoch 0, training accuracy 0.36, cost 35.0468, change in cost 35.046822\n",
      "None\n",
      "epoch 10, training accuracy 0.54, cost 30.0482, change in cost 4.998615\n",
      "None\n",
      "epoch 20, training accuracy 0.69, cost 27.851, change in cost 2.197229\n",
      "None\n",
      "epoch 30, training accuracy 0.69, cost 26.0331, change in cost 1.817848\n",
      "None\n",
      "epoch 40, training accuracy 0.69, cost 24.5468, change in cost 1.486286\n",
      "None\n",
      "epoch 50, training accuracy 0.69, cost 23.3342, change in cost 1.212685\n",
      "None\n",
      "epoch 60, training accuracy 0.69, cost 22.3396, change in cost 0.994535\n",
      "None\n",
      "epoch 70, training accuracy 0.69, cost 21.5166, change in cost 0.823067\n",
      "None\n",
      "epoch 80, training accuracy 0.69, cost 20.8279, change in cost 0.688656\n",
      "None\n",
      "epoch 90, training accuracy 0.69, cost 20.245, change in cost 0.582874\n",
      "None\n",
      "epoch 100, training accuracy 0.69, cost 19.746, change in cost 0.499012\n",
      "None\n",
      "epoch 110, training accuracy 0.69, cost 19.3141, change in cost 0.431911\n",
      "None\n",
      "epoch 120, training accuracy 0.69, cost 18.9364, change in cost 0.377687\n",
      "None\n",
      "epoch 130, training accuracy 0.69, cost 18.603, change in cost 0.333422\n",
      "None\n",
      "epoch 140, training accuracy 0.69, cost 18.3061, change in cost 0.296940\n",
      "None\n",
      "epoch 150, training accuracy 0.69, cost 18.0395, change in cost 0.266581\n",
      "None\n",
      "epoch 160, training accuracy 0.69, cost 17.7984, change in cost 0.241098\n",
      "None\n",
      "epoch 170, training accuracy 0.69, cost 17.5789, change in cost 0.219521\n",
      "None\n",
      "epoch 180, training accuracy 0.69, cost 17.3778, change in cost 0.201101\n",
      "None\n",
      "epoch 190, training accuracy 0.69, cost 17.1925, change in cost 0.185268\n",
      "None\n",
      "epoch 200, training accuracy 0.7, cost 17.0209, change in cost 0.171564\n",
      "None\n",
      "epoch 210, training accuracy 0.7, cost 16.8613, change in cost 0.159611\n",
      "None\n",
      "epoch 220, training accuracy 0.7, cost 16.7122, change in cost 0.149132\n",
      "None\n",
      "epoch 230, training accuracy 0.7, cost 16.5723, change in cost 0.139889\n",
      "None\n",
      "epoch 240, training accuracy 0.7, cost 16.4406, change in cost 0.131699\n",
      "None\n",
      "epoch 250, training accuracy 0.7, cost 16.3162, change in cost 0.124388\n",
      "None\n",
      "epoch 260, training accuracy 0.7, cost 16.1984, change in cost 0.117842\n",
      "None\n",
      "epoch 270, training accuracy 0.71, cost 16.0864, change in cost 0.111950\n",
      "None\n",
      "epoch 280, training accuracy 0.71, cost 15.9798, change in cost 0.106627\n",
      "None\n",
      "epoch 290, training accuracy 0.73, cost 15.878, change in cost 0.101794\n",
      "None\n",
      "epoch 300, training accuracy 0.73, cost 15.7806, change in cost 0.097393\n",
      "None\n",
      "epoch 310, training accuracy 0.73, cost 15.6872, change in cost 0.093367\n",
      "None\n",
      "epoch 320, training accuracy 0.73, cost 15.5976, change in cost 0.089676\n",
      "None\n",
      "epoch 330, training accuracy 0.74, cost 15.5113, change in cost 0.086274\n",
      "None\n",
      "epoch 340, training accuracy 0.75, cost 15.4281, change in cost 0.083135\n",
      "None\n",
      "epoch 350, training accuracy 0.76, cost 15.3479, change in cost 0.080226\n",
      "None\n",
      "epoch 360, training accuracy 0.79, cost 15.2704, change in cost 0.077528\n",
      "None\n",
      "epoch 370, training accuracy 0.81, cost 15.1954, change in cost 0.075011\n",
      "None\n",
      "epoch 380, training accuracy 0.82, cost 15.1227, change in cost 0.072660\n",
      "None\n",
      "epoch 390, training accuracy 0.83, cost 15.0523, change in cost 0.070467\n",
      "None\n",
      "epoch 400, training accuracy 0.83, cost 14.9838, change in cost 0.068405\n",
      "None\n",
      "epoch 410, training accuracy 0.83, cost 14.9174, change in cost 0.066462\n",
      "None\n",
      "epoch 420, training accuracy 0.83, cost 14.8527, change in cost 0.064640\n",
      "None\n",
      "epoch 430, training accuracy 0.83, cost 14.7898, change in cost 0.062916\n",
      "None\n",
      "epoch 440, training accuracy 0.84, cost 14.7285, change in cost 0.061289\n",
      "None\n",
      "epoch 450, training accuracy 0.84, cost 14.6688, change in cost 0.059740\n",
      "None\n",
      "epoch 460, training accuracy 0.85, cost 14.6105, change in cost 0.058279\n",
      "None\n",
      "epoch 470, training accuracy 0.85, cost 14.5536, change in cost 0.056884\n",
      "None\n",
      "epoch 480, training accuracy 0.85, cost 14.4981, change in cost 0.055560\n",
      "None\n",
      "epoch 490, training accuracy 0.86, cost 14.4438, change in cost 0.054295\n",
      "None\n",
      "epoch 500, training accuracy 0.86, cost 14.3907, change in cost 0.053091\n",
      "None\n",
      "epoch 510, training accuracy 0.86, cost 14.3388, change in cost 0.051932\n",
      "None\n",
      "epoch 520, training accuracy 0.86, cost 14.2879, change in cost 0.050836\n",
      "None\n",
      "epoch 530, training accuracy 0.86, cost 14.2381, change in cost 0.049775\n",
      "None\n",
      "epoch 540, training accuracy 0.86, cost 14.1894, change in cost 0.048762\n",
      "None\n",
      "epoch 550, training accuracy 0.86, cost 14.1416, change in cost 0.047784\n",
      "None\n",
      "epoch 560, training accuracy 0.86, cost 14.0948, change in cost 0.046849\n",
      "None\n",
      "epoch 570, training accuracy 0.86, cost 14.0488, change in cost 0.045948\n",
      "None\n",
      "epoch 580, training accuracy 0.86, cost 14.0037, change in cost 0.045078\n",
      "None\n",
      "epoch 590, training accuracy 0.86, cost 13.9595, change in cost 0.044241\n",
      "None\n",
      "epoch 600, training accuracy 0.86, cost 13.9161, change in cost 0.043435\n",
      "None\n",
      "epoch 610, training accuracy 0.88, cost 13.8734, change in cost 0.042655\n",
      "None\n",
      "epoch 620, training accuracy 0.88, cost 13.8315, change in cost 0.041897\n",
      "None\n",
      "epoch 630, training accuracy 0.88, cost 13.7903, change in cost 0.041168\n",
      "None\n",
      "epoch 640, training accuracy 0.88, cost 13.7499, change in cost 0.040465\n",
      "None\n",
      "epoch 650, training accuracy 0.88, cost 13.7101, change in cost 0.039781\n",
      "None\n",
      "epoch 660, training accuracy 0.88, cost 13.671, change in cost 0.039116\n",
      "None\n",
      "epoch 670, training accuracy 0.88, cost 13.6325, change in cost 0.038473\n",
      "None\n",
      "epoch 680, training accuracy 0.88, cost 13.5946, change in cost 0.037849\n",
      "None\n",
      "epoch 690, training accuracy 0.88, cost 13.5574, change in cost 0.037245\n",
      "None\n",
      "epoch 700, training accuracy 0.88, cost 13.5207, change in cost 0.036654\n",
      "None\n",
      "epoch 710, training accuracy 0.88, cost 13.4847, change in cost 0.036085\n",
      "None\n",
      "epoch 720, training accuracy 0.88, cost 13.4491, change in cost 0.035524\n",
      "None\n",
      "epoch 730, training accuracy 0.88, cost 13.4142, change in cost 0.034985\n",
      "None\n",
      "epoch 740, training accuracy 0.88, cost 13.3797, change in cost 0.034457\n",
      "None\n",
      "epoch 750, training accuracy 0.88, cost 13.3458, change in cost 0.033945\n",
      "None\n"
     ]
    }
   ],
   "source": [
    "# Training epochs\n",
    "for i in range(num_epochs):\n",
    "    if i > 1 and diff < 0.0001:\n",
    "        print(\"change in cost %g; corvergence.\"%diff)\n",
    "        break\n",
    "    else:\n",
    "        # Run training step\n",
    "        step = sess.run(training_op, feed_dict={X: train_x, y_truth: train_y})\n",
    "        # Report occasional stats\n",
    "        if i % 10 == 0:\n",
    "            # Add epoch to epoch_values\n",
    "            epoch_values.append(i)\n",
    "            # Generate accuracy stats on train data\n",
    "            train_accuracy, new_cost = sess.run([accuracy_op, cost_op], feed_dict={X:train_x, y_truth: train_y})\n",
    "            # Add accuracy to live graphing variable\n",
    "            accuracy_values.append(train_accuracy)\n",
    "            # Add cost to live graphing variable\n",
    "            cost_values.append(new_cost)\n",
    "            # Re-assign values for variables\n",
    "            diff = abs(new_cost - cost)\n",
    "            cost = new_cost\n",
    "            \n",
    "            #generate print statements\n",
    "            print(\"epoch %d, training accuracy %g, cost %g, change in cost %f\"%(i,  \n",
    "                                                                               train_accuracy, \n",
    "                                                                               new_cost,\n",
    "                                                                                diff\n",
    "                                                                               ))\n",
    "            print(step)\n"
   ]
  },
  {
   "cell_type": "code",
   "execution_count": 94,
   "metadata": {},
   "outputs": [
    {
     "name": "stdout",
     "output_type": "stream",
     "text": [
      "Accuracy final in test set: 0.78\n"
     ]
    }
   ],
   "source": [
    "# How well do we perform on held-out test data?\n",
    "print(\"Accuracy final in test set: %s\"% sess.run(accuracy_op, feed_dict={X: test_x, y_truth: test_y}))"
   ]
  },
  {
   "cell_type": "markdown",
   "metadata": {},
   "source": [
    "<b>Why don't we plot the cost to see how it behaves?</b>"
   ]
  },
  {
   "cell_type": "code",
   "execution_count": 96,
   "metadata": {},
   "outputs": [
    {
     "data": {
      "image/png": "[encoded data removed]",
      "text/plain": [
       "<Figure size 432x288 with 1 Axes>"
      ]
     },
     "metadata": {
      "needs_background": "light"
     },
     "output_type": "display_data"
    }
   ],
   "source": [
    "%matplotlib inline\n",
    "import numpy as np\n",
    "import matplotlib.pyplot as plt\n",
    "plt.plot(cost_values)\n",
    "plt.show()"
   ]
  },
  {
   "cell_type": "markdown",
   "metadata": {},
   "source": [
    "Assuming no parameters were changed, you should reach a peak accuracy of 90% at the end of training, which is commendable. Try changing the parameters such as the length of training, and maybe some operations to see how the model behaves. Does it take much longer? How is the performance?"
   ]
  },
  {
   "cell_type": "markdown",
   "metadata": {},
   "source": [
    "<hr>\n",
    "\n",
    "Copyright &copy; 2018 [Cognitive Class](https://cocl.us/DX0108EN_CC). This notebook and its source code are released under the terms of the [MIT License](https://bigdatauniversity.com/mit-license/)."
   ]
  },
  {
   "cell_type": "code",
   "execution_count": null,
   "metadata": {},
   "outputs": [],
   "source": []
  }
 ],
 "metadata": {
  "kernelspec": {
   "display_name": "Python 3",
   "language": "python",
   "name": "python3"
  },
  "language_info": {
   "codemirror_mode": {
    "name": "ipython",
    "version": 3
   },
   "file_extension": ".py",
   "mimetype": "text/x-python",
   "name": "python",
   "nbconvert_exporter": "python",
   "pygments_lexer": "ipython3",
   "version": "3.7.2"
  }
 },
 "nbformat": 4,
 "nbformat_minor": 2
}
